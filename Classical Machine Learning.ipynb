{
 "cells": [
  {
   "cell_type": "markdown",
   "id": "821b3887",
   "metadata": {},
   "source": [
    "# Credit Card Fraud Detection "
   ]
  },
  {
   "cell_type": "code",
   "execution_count": null,
   "id": "ec344f50",
   "metadata": {},
   "outputs": [],
   "source": [
    "import numpy as np\n",
    "import pandas as pd \n",
    "\n",
    "from sklearn.tree import DecisionTreeClassifier\n",
    "from sklearn.datasets import make_classification\n",
    "from sklearn.ensemble import RandomForestClassifier\n",
    "from sklearn.naive_bayes import GaussianNB\n",
    "from sklearn.linear_model import LogisticRegression\n",
    "from sklearn.svm import SVC\n",
    "from sklearn.neighbors import KNeighborsClassifier\n",
    "from sklearn.model_selection import train_test_split\n",
    "from sklearn.metrics import accuracy_score"
   ]
  },
  {
   "cell_type": "code",
   "execution_count": null,
   "id": "a0956c90",
   "metadata": {},
   "outputs": [],
   "source": []
  },
  {
   "cell_type": "code",
   "execution_count": 24,
   "id": "778ef379",
   "metadata": {},
   "outputs": [],
   "source": [
    "df = pd.read_csv('/Users/rag9704/Downloads/creditcard.csv')\n"
   ]
  },
  {
   "cell_type": "code",
   "execution_count": 25,
   "id": "3727b516",
   "metadata": {},
   "outputs": [],
   "source": [
    "not_fraud_df = df[df['Class'] == 0]\n",
    "fraud_df = df[df['Class'] == 1]"
   ]
  },
  {
   "cell_type": "code",
   "execution_count": 26,
   "id": "445ef9ac",
   "metadata": {},
   "outputs": [
    {
     "data": {
      "text/plain": [
       "0.001727485630620034"
      ]
     },
     "execution_count": 26,
     "metadata": {},
     "output_type": "execute_result"
    }
   ],
   "source": [
    "len(fraud_df)/(len(fraud_df)+len(not_fraud_df))"
   ]
  },
  {
   "cell_type": "markdown",
   "id": "8f665e0c",
   "metadata": {},
   "source": [
    "Having too few data points means that our model training will be much shorter, so that we won’t be able to establish as many connections as we had before to improve our results. Since our testing size is also significantly smaller, our accuracy is also affected since we won’t have a large enough test set. \n",
    "However, not equalizing the distributions makes our model practically useless due to the tremendous difference in size of the not-fraud compared to the fraud.\n",
    "So, let’s start by equalizing the number of fraud and not-fraud transactions. This will allow for better prediction since the model will be trained to expect fraud and not-fraud with equal chance, since it is a binary outcome"
   ]
  },
  {
   "cell_type": "code",
   "execution_count": 27,
   "id": "b1b92339",
   "metadata": {},
   "outputs": [],
   "source": [
    "not_fraud_df = df.loc[df['Class'] == 0][:492]\n",
    "equalized_df = pd.concat([fraud_df, not_fraud_df])\n",
    "equalized_df = equalized_df.sample(frac = 1, random_state = 42)\n",
    "not_fraud_df = equalized_df[equalized_df['Class'] == 0]\n",
    "fraud_df = equalized_df[equalized_df['Class'] == 1]"
   ]
  },
  {
   "cell_type": "code",
   "execution_count": 28,
   "id": "b4140787",
   "metadata": {},
   "outputs": [
    {
     "data": {
      "text/plain": [
       "array([<AxesSubplot:ylabel='a'>, <AxesSubplot:ylabel='b'>], dtype=object)"
      ]
     },
     "execution_count": 28,
     "metadata": {},
     "output_type": "execute_result"
    },
    {
     "data": {
      "image/png": "[encoded data removed]",
      "text/plain": [
       "<Figure size 432x288 with 2 Axes>"
      ]
     },
     "metadata": {},
     "output_type": "display_data"
    }
   ],
   "source": [
    "import matplotlib.pyplot as plt\n",
    "\n",
    "not_fraud = len(equalized_df[equalized_df['Class'] == 0].values)\n",
    "fraud = len(equalized_df[equalized_df['Class'] == 1].values)\n",
    "\n",
    "pie_chart = pd.DataFrame({'a': [0, 1],'b': [not_fraud, fraud]})\n",
    "pie_chart.plot.pie(subplots=True)\n"
   ]
  },
  {
   "cell_type": "code",
   "execution_count": 7,
   "id": "a12b850a",
   "metadata": {},
   "outputs": [],
   "source": [
    "from sklearn.preprocessing import MinMaxScaler \n",
    "scaler = MinMaxScaler()\n",
    "scaler.fit(equalized_df['Time'].values.reshape(-1, 1))\n",
    "equalized_df['Time'] = scaler.fit_transform(equalized_df['Time'].values.reshape(-1, 1))\n",
    "scaler.fit(equalized_df['Amount'].values.reshape(-1, 1))\n",
    "equalized_df['Amount'] = scaler.fit_transform(equalized_df['Amount'].values.reshape(-1, 1))\n"
   ]
  },
  {
   "cell_type": "code",
   "execution_count": 11,
   "id": "8a44b048",
   "metadata": {},
   "outputs": [
    {
     "data": {
      "text/html": [
       "<div>\n",
       "<style scoped>\n",
       "    .dataframe tbody tr th:only-of-type {\n",
       "        vertical-align: middle;\n",
       "    }\n",
       "\n",
       "    .dataframe tbody tr th {\n",
       "        vertical-align: top;\n",
       "    }\n",
       "\n",
       "    .dataframe thead th {\n",
       "        text-align: right;\n",
       "    }\n",
       "</style>\n",
       "<table border=\"1\" class=\"dataframe\">\n",
       "  <thead>\n",
       "    <tr style=\"text-align: right;\">\n",
       "      <th></th>\n",
       "      <th>Time</th>\n",
       "      <th>V1</th>\n",
       "      <th>V2</th>\n",
       "      <th>V3</th>\n",
       "      <th>V4</th>\n",
       "      <th>V5</th>\n",
       "      <th>V6</th>\n",
       "      <th>V7</th>\n",
       "      <th>V8</th>\n",
       "      <th>V9</th>\n",
       "      <th>...</th>\n",
       "      <th>V21</th>\n",
       "      <th>V22</th>\n",
       "      <th>V23</th>\n",
       "      <th>V24</th>\n",
       "      <th>V25</th>\n",
       "      <th>V26</th>\n",
       "      <th>V27</th>\n",
       "      <th>V28</th>\n",
       "      <th>Amount</th>\n",
       "      <th>Class</th>\n",
       "    </tr>\n",
       "  </thead>\n",
       "  <tbody>\n",
       "    <tr>\n",
       "      <th>0</th>\n",
       "      <td>0.0</td>\n",
       "      <td>-1.359807</td>\n",
       "      <td>-0.072781</td>\n",
       "      <td>2.536347</td>\n",
       "      <td>1.378155</td>\n",
       "      <td>-0.338321</td>\n",
       "      <td>0.462388</td>\n",
       "      <td>0.239599</td>\n",
       "      <td>0.098698</td>\n",
       "      <td>0.363787</td>\n",
       "      <td>...</td>\n",
       "      <td>-0.018307</td>\n",
       "      <td>0.277838</td>\n",
       "      <td>-0.110474</td>\n",
       "      <td>0.066928</td>\n",
       "      <td>0.128539</td>\n",
       "      <td>-0.189115</td>\n",
       "      <td>0.133558</td>\n",
       "      <td>-0.021053</td>\n",
       "      <td>149.62</td>\n",
       "      <td>0</td>\n",
       "    </tr>\n",
       "    <tr>\n",
       "      <th>1</th>\n",
       "      <td>0.0</td>\n",
       "      <td>1.191857</td>\n",
       "      <td>0.266151</td>\n",
       "      <td>0.166480</td>\n",
       "      <td>0.448154</td>\n",
       "      <td>0.060018</td>\n",
       "      <td>-0.082361</td>\n",
       "      <td>-0.078803</td>\n",
       "      <td>0.085102</td>\n",
       "      <td>-0.255425</td>\n",
       "      <td>...</td>\n",
       "      <td>-0.225775</td>\n",
       "      <td>-0.638672</td>\n",
       "      <td>0.101288</td>\n",
       "      <td>-0.339846</td>\n",
       "      <td>0.167170</td>\n",
       "      <td>0.125895</td>\n",
       "      <td>-0.008983</td>\n",
       "      <td>0.014724</td>\n",
       "      <td>2.69</td>\n",
       "      <td>0</td>\n",
       "    </tr>\n",
       "    <tr>\n",
       "      <th>2</th>\n",
       "      <td>1.0</td>\n",
       "      <td>-1.358354</td>\n",
       "      <td>-1.340163</td>\n",
       "      <td>1.773209</td>\n",
       "      <td>0.379780</td>\n",
       "      <td>-0.503198</td>\n",
       "      <td>1.800499</td>\n",
       "      <td>0.791461</td>\n",
       "      <td>0.247676</td>\n",
       "      <td>-1.514654</td>\n",
       "      <td>...</td>\n",
       "      <td>0.247998</td>\n",
       "      <td>0.771679</td>\n",
       "      <td>0.909412</td>\n",
       "      <td>-0.689281</td>\n",
       "      <td>-0.327642</td>\n",
       "      <td>-0.139097</td>\n",
       "      <td>-0.055353</td>\n",
       "      <td>-0.059752</td>\n",
       "      <td>378.66</td>\n",
       "      <td>0</td>\n",
       "    </tr>\n",
       "    <tr>\n",
       "      <th>3</th>\n",
       "      <td>1.0</td>\n",
       "      <td>-0.966272</td>\n",
       "      <td>-0.185226</td>\n",
       "      <td>1.792993</td>\n",
       "      <td>-0.863291</td>\n",
       "      <td>-0.010309</td>\n",
       "      <td>1.247203</td>\n",
       "      <td>0.237609</td>\n",
       "      <td>0.377436</td>\n",
       "      <td>-1.387024</td>\n",
       "      <td>...</td>\n",
       "      <td>-0.108300</td>\n",
       "      <td>0.005274</td>\n",
       "      <td>-0.190321</td>\n",
       "      <td>-1.175575</td>\n",
       "      <td>0.647376</td>\n",
       "      <td>-0.221929</td>\n",
       "      <td>0.062723</td>\n",
       "      <td>0.061458</td>\n",
       "      <td>123.50</td>\n",
       "      <td>0</td>\n",
       "    </tr>\n",
       "    <tr>\n",
       "      <th>4</th>\n",
       "      <td>2.0</td>\n",
       "      <td>-1.158233</td>\n",
       "      <td>0.877737</td>\n",
       "      <td>1.548718</td>\n",
       "      <td>0.403034</td>\n",
       "      <td>-0.407193</td>\n",
       "      <td>0.095921</td>\n",
       "      <td>0.592941</td>\n",
       "      <td>-0.270533</td>\n",
       "      <td>0.817739</td>\n",
       "      <td>...</td>\n",
       "      <td>-0.009431</td>\n",
       "      <td>0.798278</td>\n",
       "      <td>-0.137458</td>\n",
       "      <td>0.141267</td>\n",
       "      <td>-0.206010</td>\n",
       "      <td>0.502292</td>\n",
       "      <td>0.219422</td>\n",
       "      <td>0.215153</td>\n",
       "      <td>69.99</td>\n",
       "      <td>0</td>\n",
       "    </tr>\n",
       "  </tbody>\n",
       "</table>\n",
       "<p>5 rows × 31 columns</p>\n",
       "</div>"
      ],
      "text/plain": [
       "   Time        V1        V2        V3        V4        V5        V6        V7  \\\n",
       "0   0.0 -1.359807 -0.072781  2.536347  1.378155 -0.338321  0.462388  0.239599   \n",
       "1   0.0  1.191857  0.266151  0.166480  0.448154  0.060018 -0.082361 -0.078803   \n",
       "2   1.0 -1.358354 -1.340163  1.773209  0.379780 -0.503198  1.800499  0.791461   \n",
       "3   1.0 -0.966272 -0.185226  1.792993 -0.863291 -0.010309  1.247203  0.237609   \n",
       "4   2.0 -1.158233  0.877737  1.548718  0.403034 -0.407193  0.095921  0.592941   \n",
       "\n",
       "         V8        V9  ...       V21       V22       V23       V24       V25  \\\n",
       "0  0.098698  0.363787  ... -0.018307  0.277838 -0.110474  0.066928  0.128539   \n",
       "1  0.085102 -0.255425  ... -0.225775 -0.638672  0.101288 -0.339846  0.167170   \n",
       "2  0.247676 -1.514654  ...  0.247998  0.771679  0.909412 -0.689281 -0.327642   \n",
       "3  0.377436 -1.387024  ... -0.108300  0.005274 -0.190321 -1.175575  0.647376   \n",
       "4 -0.270533  0.817739  ... -0.009431  0.798278 -0.137458  0.141267 -0.206010   \n",
       "\n",
       "        V26       V27       V28  Amount  Class  \n",
       "0 -0.189115  0.133558 -0.021053  149.62      0  \n",
       "1  0.125895 -0.008983  0.014724    2.69      0  \n",
       "2 -0.139097 -0.055353 -0.059752  378.66      0  \n",
       "3 -0.221929  0.062723  0.061458  123.50      0  \n",
       "4  0.502292  0.219422  0.215153   69.99      0  \n",
       "\n",
       "[5 rows x 31 columns]"
      ]
     },
     "execution_count": 11,
     "metadata": {},
     "output_type": "execute_result"
    }
   ],
   "source": [
    "df.head()"
   ]
  },
  {
   "cell_type": "code",
   "execution_count": 12,
   "id": "1ae1f0fe",
   "metadata": {},
   "outputs": [],
   "source": [
    "training,test = train_test_split(equalized_df, train_size = 0.7, test_size = 0.3, shuffle=True)\n",
    "training, valid = train_test_split(training, train_size = 0.7, test_size =0.3, shuffle=True) \n",
    "\n",
    "training_label = training.pop('Class')\n",
    "test_label = test.pop('Class')\n",
    "valid_label = valid.pop('Class')"
   ]
  },
  {
   "cell_type": "code",
   "execution_count": 13,
   "id": "39a7a451",
   "metadata": {},
   "outputs": [],
   "source": [
    "dtc = DecisionTreeClassifier()\n",
    "rfc = RandomForestClassifier()\n",
    "nbc = GaussianNB()\n",
    "LR = LogisticRegression(random_state=0, solver='lbfgs',multi_class='multinomial')\n",
    "SVM = SVC(kernel='rbf', C=1,gamma='auto')\n",
    "knn = KNeighborsClassifier(n_neighbors=3)\n"
   ]
  },
  {
   "cell_type": "code",
   "execution_count": 14,
   "id": "74d242fd",
   "metadata": {},
   "outputs": [
    {
     "data": {
      "text/plain": [
       "KNeighborsClassifier(n_neighbors=3)"
      ]
     },
     "execution_count": 14,
     "metadata": {},
     "output_type": "execute_result"
    }
   ],
   "source": [
    "dtc.fit(training, training_label)\n",
    "rfc.fit(training, training_label)\n",
    "nbc.fit(training, training_label)\n",
    "LR.fit(training, training_label)\n",
    "SVM.fit(training, training_label)\n",
    "knn.fit(training, training_label)"
   ]
  },
  {
   "cell_type": "code",
   "execution_count": 15,
   "id": "f22f64b1",
   "metadata": {},
   "outputs": [],
   "source": [
    "dtc_predict = dtc.predict(test)\n",
    "rfc_predict = rfc.predict(test)\n",
    "nbc_predict = nbc.predict(test)\n",
    "LR_predict = LR.predict(test)\n",
    "SVM_predict = SVM.predict(test)\n",
    "knn_predict = knn.predict(test)"
   ]
  },
  {
   "cell_type": "code",
   "execution_count": 16,
   "id": "d4893447",
   "metadata": {},
   "outputs": [],
   "source": [
    "accuracy = dict()\n",
    "\n",
    "accuracy['Naive_bayes'] = accuracy_score(test_label, nbc_predict)\n",
    "accuracy['DecisionTree'] = accuracy_score(test_label, dtc_predict)\n",
    "accuracy['RandomForest'] = accuracy_score(test_label,rfc_predict)\n",
    "accuracy['support_vector_Machines'] = accuracy_score(test_label,SVM_predict)\n",
    "accuracy['Linear Regression'] = accuracy_score(test_label,LR_predict)\n",
    "accuracy['KNN'] = accuracy_score(test_label,knn_predict)"
   ]
  },
  {
   "cell_type": "code",
   "execution_count": 17,
   "id": "5cfe472e",
   "metadata": {},
   "outputs": [
    {
     "data": {
      "text/plain": [
       "{'Naive_bayes': 0.9932432432432432,\n",
       " 'DecisionTree': 1.0,\n",
       " 'RandomForest': 1.0,\n",
       " 'support_vector_Machines': 0.972972972972973,\n",
       " 'Linear Regression': 0.9864864864864865,\n",
       " 'KNN': 0.9527027027027027}"
      ]
     },
     "execution_count": 17,
     "metadata": {},
     "output_type": "execute_result"
    }
   ],
   "source": [
    "accuracy"
   ]
  },
  {
   "cell_type": "code",
   "execution_count": 18,
   "id": "62193d82",
   "metadata": {},
   "outputs": [],
   "source": [
    "dtc_predict = dtc.predict(valid)\n",
    "rfc_predict = rfc.predict(valid)\n",
    "nbc_predict = nbc.predict(valid)\n",
    "LR_predict = LR.predict(valid)\n",
    "SVM_predict = SVM.predict(valid)\n",
    "knn_predict = knn.predict(valid)"
   ]
  },
  {
   "cell_type": "code",
   "execution_count": 19,
   "id": "b9228fd3",
   "metadata": {},
   "outputs": [],
   "source": [
    "accuracy['Naive_bayes'] = accuracy_score(valid_label, nbc_predict)\n",
    "accuracy['DecisionTree'] = accuracy_score(valid_label, dtc_predict)\n",
    "accuracy['RandomForest'] = accuracy_score(valid_label,rfc_predict)\n",
    "accuracy['support_vector_Machines'] = accuracy_score(valid_label,SVM_predict)\n",
    "accuracy['Linear Regression'] = accuracy_score(valid_label,LR_predict)\n",
    "accuracy['KNN'] = accuracy_score(valid_label,knn_predict)"
   ]
  },
  {
   "cell_type": "code",
   "execution_count": 20,
   "id": "2c28ce0b",
   "metadata": {},
   "outputs": [
    {
     "data": {
      "text/plain": [
       "{'Naive_bayes': 0.9758454106280193,\n",
       " 'DecisionTree': 1.0,\n",
       " 'RandomForest': 1.0,\n",
       " 'support_vector_Machines': 0.9420289855072463,\n",
       " 'Linear Regression': 0.9710144927536232,\n",
       " 'KNN': 0.9371980676328503}"
      ]
     },
     "execution_count": 20,
     "metadata": {},
     "output_type": "execute_result"
    }
   ],
   "source": [
    "accuracy"
   ]
  },
  {
   "cell_type": "code",
   "execution_count": 21,
   "id": "ae6f291f",
   "metadata": {},
   "outputs": [
    {
     "data": {
      "text/plain": [
       "'DecisionTree'"
      ]
     },
     "execution_count": 21,
     "metadata": {},
     "output_type": "execute_result"
    }
   ],
   "source": [
    "max(accuracy,key=accuracy.get)"
   ]
  },
  {
   "cell_type": "code",
   "execution_count": null,
   "id": "b591dabc",
   "metadata": {},
   "outputs": [],
   "source": []
  }
 ],
 "metadata": {
  "kernelspec": {
   "display_name": "Python 3 (ipykernel)",
   "language": "python",
   "name": "python3"
  },
  "language_info": {
   "codemirror_mode": {
    "name": "ipython",
    "version": 3
   },
   "file_extension": ".py",
   "mimetype": "text/x-python",
   "name": "python",
   "nbconvert_exporter": "python",
   "pygments_lexer": "ipython3",
   "version": "3.8.2"
  }
 },
 "nbformat": 4,
 "nbformat_minor": 5
}
